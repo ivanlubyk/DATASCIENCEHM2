{
 "cells": [
  {
   "cell_type": "markdown",
   "id": "e33066d96923176f",
   "metadata": {
    "collapsed": false,
    "jupyter": {
     "outputs_hidden": false
    }
   },
   "source": [
    "# Лінійна регресія"
   ]
  },
  {
   "cell_type": "code",
   "execution_count": 1,
   "id": "initial_id",
   "metadata": {
    "ExecuteTime": {
     "end_time": "2023-10-01T18:36:58.819206300Z",
     "start_time": "2023-10-01T18:36:58.339521900Z"
    }
   },
   "outputs": [
    {
     "ename": "ModuleNotFoundError",
     "evalue": "No module named 'sklearn'",
     "output_type": "error",
     "traceback": [
      "\u001b[1;31m---------------------------------------------------------------------------\u001b[0m",
      "\u001b[1;31mModuleNotFoundError\u001b[0m                       Traceback (most recent call last)",
      "Cell \u001b[1;32mIn[1], line 4\u001b[0m\n\u001b[0;32m      2\u001b[0m \u001b[38;5;28;01mimport\u001b[39;00m \u001b[38;5;21;01mnumpy\u001b[39;00m \u001b[38;5;28;01mas\u001b[39;00m \u001b[38;5;21;01mnp\u001b[39;00m\n\u001b[0;32m      3\u001b[0m \u001b[38;5;28;01mimport\u001b[39;00m \u001b[38;5;21;01mpandas\u001b[39;00m \u001b[38;5;28;01mas\u001b[39;00m \u001b[38;5;21;01mpd\u001b[39;00m\n\u001b[1;32m----> 4\u001b[0m \u001b[38;5;28;01mfrom\u001b[39;00m \u001b[38;5;21;01msklearn\u001b[39;00m\u001b[38;5;21;01m.\u001b[39;00m\u001b[38;5;21;01mlinear_model\u001b[39;00m \u001b[38;5;28;01mimport\u001b[39;00m LinearRegression\n",
      "\u001b[1;31mModuleNotFoundError\u001b[0m: No module named 'sklearn'"
     ]
    }
   ],
   "source": [
    "%matplotlib inline\n",
    "import numpy as np\n",
    "import pandas as pd\n",
    "from sklearn.linear_model import LinearRegression"
   ]
  },
  {
   "cell_type": "code",
   "execution_count": null,
   "id": "91695c576a45c77d",
   "metadata": {
    "ExecuteTime": {
     "end_time": "2023-10-01T18:36:58.835221200Z",
     "start_time": "2023-10-01T18:36:58.821207600Z"
    },
    "collapsed": false,
    "jupyter": {
     "outputs_hidden": false
    }
   },
   "outputs": [],
   "source": [
    "df = pd.read_csv('Housing.csv')"
   ]
  },
  {
   "cell_type": "code",
   "execution_count": 2,
   "id": "fc7fd1de7fc29f10",
   "metadata": {
    "ExecuteTime": {
     "end_time": "2023-10-01T18:36:58.899146400Z",
     "start_time": "2023-10-01T18:36:58.840221400Z"
    },
    "collapsed": false,
    "jupyter": {
     "outputs_hidden": false
    }
   },
   "outputs": [
    {
     "ename": "NameError",
     "evalue": "name 'df' is not defined",
     "output_type": "error",
     "traceback": [
      "\u001b[1;31m---------------------------------------------------------------------------\u001b[0m",
      "\u001b[1;31mNameError\u001b[0m                                 Traceback (most recent call last)",
      "Cell \u001b[1;32mIn[2], line 1\u001b[0m\n\u001b[1;32m----> 1\u001b[0m \u001b[43mdf\u001b[49m\u001b[38;5;241m.\u001b[39mreplace({\u001b[38;5;124m'\u001b[39m\u001b[38;5;124myes\u001b[39m\u001b[38;5;124m'\u001b[39m: \u001b[38;5;241m1\u001b[39m, \u001b[38;5;124m'\u001b[39m\u001b[38;5;124mno\u001b[39m\u001b[38;5;124m'\u001b[39m: \u001b[38;5;241m0\u001b[39m}, inplace\u001b[38;5;241m=\u001b[39m\u001b[38;5;28;01mTrue\u001b[39;00m)\n\u001b[0;32m      2\u001b[0m df\u001b[38;5;241m.\u001b[39mreplace({\u001b[38;5;124m'\u001b[39m\u001b[38;5;124mfurnished\u001b[39m\u001b[38;5;124m'\u001b[39m: \u001b[38;5;241m0\u001b[39m, \u001b[38;5;124m'\u001b[39m\u001b[38;5;124msemi-furnished\u001b[39m\u001b[38;5;124m'\u001b[39m: \u001b[38;5;241m1\u001b[39m, \u001b[38;5;124m'\u001b[39m\u001b[38;5;124munfurnished\u001b[39m\u001b[38;5;124m'\u001b[39m: \u001b[38;5;241m2\u001b[39m}, inplace\u001b[38;5;241m=\u001b[39m\u001b[38;5;28;01mTrue\u001b[39;00m)\n\u001b[0;32m      3\u001b[0m df\u001b[38;5;241m.\u001b[39mhead()\n",
      "\u001b[1;31mNameError\u001b[0m: name 'df' is not defined"
     ]
    }
   ],
   "source": [
    "df.replace({'yes': 1, 'no': 0}, inplace=True)\n",
    "df.replace({'furnished': 0, 'semi-furnished': 1, 'unfurnished': 2}, inplace=True)\n",
    "df.head()"
   ]
  },
  {
   "cell_type": "markdown",
   "id": "e8c63a8f8eb29d1f",
   "metadata": {
    "collapsed": false,
    "jupyter": {
     "outputs_hidden": false
    }
   },
   "source": [
    "Завдання: знайдіть найкращі параметри $\\vec{w}$ для датасету прогнозуючу ціну на будинок залежно від площі, кількості ванних кімнат та кількості спалень."
   ]
  },
  {
   "cell_type": "code",
   "execution_count": 3,
   "id": "9386b36a9e04087e",
   "metadata": {
    "ExecuteTime": {
     "end_time": "2023-10-01T18:36:58.931334900Z",
     "start_time": "2023-10-01T18:36:58.910146800Z"
    },
    "collapsed": false,
    "jupyter": {
     "outputs_hidden": false
    }
   },
   "outputs": [
    {
     "ename": "NameError",
     "evalue": "name 'df' is not defined",
     "output_type": "error",
     "traceback": [
      "\u001b[1;31m---------------------------------------------------------------------------\u001b[0m",
      "\u001b[1;31mNameError\u001b[0m                                 Traceback (most recent call last)",
      "Cell \u001b[1;32mIn[3], line 1\u001b[0m\n\u001b[1;32m----> 1\u001b[0m df_selected \u001b[38;5;241m=\u001b[39m \u001b[43mdf\u001b[49m[[\u001b[38;5;124m'\u001b[39m\u001b[38;5;124mprice\u001b[39m\u001b[38;5;124m'\u001b[39m,\u001b[38;5;124m'\u001b[39m\u001b[38;5;124marea\u001b[39m\u001b[38;5;124m'\u001b[39m, \u001b[38;5;124m'\u001b[39m\u001b[38;5;124mbedrooms\u001b[39m\u001b[38;5;124m'\u001b[39m, \u001b[38;5;124m'\u001b[39m\u001b[38;5;124mbathrooms\u001b[39m\u001b[38;5;124m'\u001b[39m]] \u001b[38;5;66;03m# Selecting chosen parameters\u001b[39;00m\n",
      "\u001b[1;31mNameError\u001b[0m: name 'df' is not defined"
     ]
    }
   ],
   "source": [
    "df_selected = df[['price','area', 'bedrooms', 'bathrooms']] # Selecting chosen parameters"
   ]
  },
  {
   "cell_type": "code",
   "execution_count": 4,
   "id": "8a64262c6dee467",
   "metadata": {
    "ExecuteTime": {
     "end_time": "2023-10-01T18:36:59.086485300Z",
     "start_time": "2023-10-01T18:36:58.926336200Z"
    },
    "collapsed": false,
    "jupyter": {
     "outputs_hidden": false
    }
   },
   "outputs": [
    {
     "ename": "NameError",
     "evalue": "name 'df_selected' is not defined",
     "output_type": "error",
     "traceback": [
      "\u001b[1;31m---------------------------------------------------------------------------\u001b[0m",
      "\u001b[1;31mNameError\u001b[0m                                 Traceback (most recent call last)",
      "Cell \u001b[1;32mIn[4], line 2\u001b[0m\n\u001b[0;32m      1\u001b[0m normalize \u001b[38;5;241m=\u001b[39m \u001b[38;5;28;01mlambda\u001b[39;00m data: (data \u001b[38;5;241m-\u001b[39m data\u001b[38;5;241m.\u001b[39mmean()) \u001b[38;5;241m/\u001b[39m data\u001b[38;5;241m.\u001b[39mstd() \u001b[38;5;66;03m# mean normalization\u001b[39;00m\n\u001b[1;32m----> 2\u001b[0m df_selected_normalized \u001b[38;5;241m=\u001b[39m \u001b[43mdf_selected\u001b[49m\u001b[38;5;241m.\u001b[39mapply(normalize)\n\u001b[0;32m      3\u001b[0m df_selected_normalized\u001b[38;5;241m.\u001b[39mhead()\n",
      "\u001b[1;31mNameError\u001b[0m: name 'df_selected' is not defined"
     ]
    }
   ],
   "source": [
    "normalize = lambda data: (data - data.mean()) / data.std() # mean normalization\n",
    "df_selected_normalized = df_selected.apply(normalize)\n",
    "df_selected_normalized.head()"
   ]
  },
  {
   "cell_type": "code",
   "execution_count": 5,
   "id": "b8b360b8dcbfb318",
   "metadata": {
    "ExecuteTime": {
     "end_time": "2023-10-01T18:36:59.087504200Z",
     "start_time": "2023-10-01T18:36:58.971885300Z"
    },
    "collapsed": false,
    "jupyter": {
     "outputs_hidden": false
    }
   },
   "outputs": [
    {
     "ename": "NameError",
     "evalue": "name 'df_selected_normalized' is not defined",
     "output_type": "error",
     "traceback": [
      "\u001b[1;31m---------------------------------------------------------------------------\u001b[0m",
      "\u001b[1;31mNameError\u001b[0m                                 Traceback (most recent call last)",
      "Cell \u001b[1;32mIn[5], line 1\u001b[0m\n\u001b[1;32m----> 1\u001b[0m X \u001b[38;5;241m=\u001b[39m \u001b[43mdf_selected_normalized\u001b[49m[[\u001b[38;5;124m'\u001b[39m\u001b[38;5;124marea\u001b[39m\u001b[38;5;124m'\u001b[39m, \u001b[38;5;124m'\u001b[39m\u001b[38;5;124mbedrooms\u001b[39m\u001b[38;5;124m'\u001b[39m, \u001b[38;5;124m'\u001b[39m\u001b[38;5;124mbathrooms\u001b[39m\u001b[38;5;124m'\u001b[39m]] \u001b[38;5;66;03m# Chosen Characteristics (x or inputs)\u001b[39;00m\n\u001b[0;32m      2\u001b[0m Y \u001b[38;5;241m=\u001b[39m df_selected_normalized[\u001b[38;5;124m'\u001b[39m\u001b[38;5;124mprice\u001b[39m\u001b[38;5;124m'\u001b[39m] \u001b[38;5;66;03m# Chosen Target (y or targets)\u001b[39;00m\n",
      "\u001b[1;31mNameError\u001b[0m: name 'df_selected_normalized' is not defined"
     ]
    }
   ],
   "source": [
    "X = df_selected_normalized[['area', 'bedrooms', 'bathrooms']] # Chosen Characteristics (x or inputs)\n",
    "Y = df_selected_normalized['price'] # Chosen Target (y or targets)"
   ]
  },
  {
   "cell_type": "markdown",
   "id": "251a6b92208469f7",
   "metadata": {
    "collapsed": false,
    "jupyter": {
     "outputs_hidden": false
    }
   },
   "source": [
    "- напишіть функцію гіпотези лінійної регресії у векторному вигляді;\n",
    "- створіть функцію для обчислення функції втрат у векторному вигляді;\n",
    "- реалізуйте один крок градієнтного спуску."
   ]
  },
  {
   "cell_type": "code",
   "execution_count": 6,
   "id": "c413e5d54fc010a6",
   "metadata": {
    "ExecuteTime": {
     "end_time": "2023-10-01T18:36:59.087504200Z",
     "start_time": "2023-10-01T18:36:58.985032400Z"
    },
    "collapsed": false,
    "jupyter": {
     "outputs_hidden": false
    }
   },
   "outputs": [],
   "source": [
    "def linear_model(inputs, weights):\n",
    "    return  inputs @ weights\n",
    "\n",
    "def calculate_loss(predicted_values, actual_values):\n",
    "    return (1 / (2 * len(actual_values))) * np.sum(np.square(predicted_values - actual_values))\n",
    "\n",
    "def calculate_gradient(inputs, targets, weights):\n",
    "    predicted_values = linear_model(inputs, weights)\n",
    "    gradient_value = inputs.T @ (predicted_values - targets) / len(targets)\n",
    "    error = calculate_loss(predicted_values, targets)\n",
    "    return gradient_value, error\n",
    "\n",
    "def gradient_descent(inputs, targets, initial_weights, learning_rate = 0.01, num_iterations = 2000):\n",
    "    best_error = np.inf\n",
    "    best_weights = initial_weights.copy()\n",
    "    for _ in range(num_iterations):\n",
    "        gradient_value, current_error = calculate_gradient(inputs, targets, initial_weights)\n",
    "        initial_weights -= learning_rate * gradient_value\n",
    "        if current_error < best_error:\n",
    "            best_error = current_error\n",
    "            best_weights = initial_weights.copy()         \n",
    "    return best_weights"
   ]
  },
  {
   "cell_type": "markdown",
   "id": "5d41c0d6f0353a8",
   "metadata": {
    "collapsed": false,
    "jupyter": {
     "outputs_hidden": false
    }
   },
   "source": [
    "## Calculation"
   ]
  },
  {
   "cell_type": "code",
   "execution_count": 7,
   "id": "9275a98bce0f0b31",
   "metadata": {
    "ExecuteTime": {
     "end_time": "2023-10-01T18:37:01.691500100Z",
     "start_time": "2023-10-01T18:36:59.004072400Z"
    },
    "collapsed": false,
    "jupyter": {
     "outputs_hidden": false
    }
   },
   "outputs": [
    {
     "ename": "NameError",
     "evalue": "name 'X' is not defined",
     "output_type": "error",
     "traceback": [
      "\u001b[1;31m---------------------------------------------------------------------------\u001b[0m",
      "\u001b[1;31mNameError\u001b[0m                                 Traceback (most recent call last)",
      "Cell \u001b[1;32mIn[7], line 1\u001b[0m\n\u001b[1;32m----> 1\u001b[0m w \u001b[38;5;241m=\u001b[39m np\u001b[38;5;241m.\u001b[39mzeros(\u001b[43mX\u001b[49m\u001b[38;5;241m.\u001b[39mshape[\u001b[38;5;241m1\u001b[39m])\n\u001b[0;32m      2\u001b[0m calculated_weights \u001b[38;5;241m=\u001b[39m gradient_descent(X, Y, w)\n\u001b[0;32m      3\u001b[0m calculated_weights\u001b[38;5;241m.\u001b[39mindex \u001b[38;5;241m=\u001b[39m [\u001b[38;5;241m0\u001b[39m,\u001b[38;5;241m1\u001b[39m,\u001b[38;5;241m2\u001b[39m]\n",
      "\u001b[1;31mNameError\u001b[0m: name 'X' is not defined"
     ]
    }
   ],
   "source": [
    "w = np.zeros(X.shape[1])\n",
    "calculated_weights = gradient_descent(X, Y, w)\n",
    "calculated_weights.index = [0,1,2]"
   ]
  },
  {
   "cell_type": "markdown",
   "id": "e721fed32f134ec8",
   "metadata": {
    "collapsed": false,
    "jupyter": {
     "outputs_hidden": false
    }
   },
   "source": [
    "знайдіть ці ж параметри за допомогою аналітичного рішення"
   ]
  },
  {
   "cell_type": "code",
   "execution_count": 8,
   "id": "ff874f87f9eaac5f",
   "metadata": {
    "ExecuteTime": {
     "end_time": "2023-10-01T18:37:01.719264Z",
     "start_time": "2023-10-01T18:37:01.696501700Z"
    },
    "collapsed": false,
    "jupyter": {
     "outputs_hidden": false
    }
   },
   "outputs": [
    {
     "ename": "NameError",
     "evalue": "name 'X' is not defined",
     "output_type": "error",
     "traceback": [
      "\u001b[1;31m---------------------------------------------------------------------------\u001b[0m",
      "\u001b[1;31mNameError\u001b[0m                                 Traceback (most recent call last)",
      "Cell \u001b[1;32mIn[8], line 1\u001b[0m\n\u001b[1;32m----> 1\u001b[0m analytical \u001b[38;5;241m=\u001b[39m np\u001b[38;5;241m.\u001b[39mlinalg\u001b[38;5;241m.\u001b[39minv(\u001b[43mX\u001b[49m\u001b[38;5;241m.\u001b[39mT \u001b[38;5;241m@\u001b[39m X) \u001b[38;5;241m@\u001b[39m X\u001b[38;5;241m.\u001b[39mT \u001b[38;5;241m@\u001b[39m Y \u001b[38;5;66;03m# Generalized inverse\u001b[39;00m\n",
      "\u001b[1;31mNameError\u001b[0m: name 'X' is not defined"
     ]
    }
   ],
   "source": [
    "analytical = np.linalg.inv(X.T @ X) @ X.T @ Y # Generalized inverse"
   ]
  },
  {
   "cell_type": "markdown",
   "id": "a2fd696893b2b8e5",
   "metadata": {
    "collapsed": false,
    "jupyter": {
     "outputs_hidden": false
    }
   },
   "source": [
    "scikit learn linear model (for reference)"
   ]
  },
  {
   "cell_type": "code",
   "execution_count": 9,
   "id": "f18c75e063edb5f4",
   "metadata": {
    "ExecuteTime": {
     "end_time": "2023-10-01T18:37:01.758030300Z",
     "start_time": "2023-10-01T18:37:01.717239Z"
    },
    "collapsed": false,
    "jupyter": {
     "outputs_hidden": false
    }
   },
   "outputs": [
    {
     "ename": "NameError",
     "evalue": "name 'LinearRegression' is not defined",
     "output_type": "error",
     "traceback": [
      "\u001b[1;31m---------------------------------------------------------------------------\u001b[0m",
      "\u001b[1;31mNameError\u001b[0m                                 Traceback (most recent call last)",
      "Cell \u001b[1;32mIn[9], line 1\u001b[0m\n\u001b[1;32m----> 1\u001b[0m model \u001b[38;5;241m=\u001b[39m \u001b[43mLinearRegression\u001b[49m()\n\u001b[0;32m      2\u001b[0m model\u001b[38;5;241m.\u001b[39mfit(X, Y)\n\u001b[0;32m      3\u001b[0m coefficients \u001b[38;5;241m=\u001b[39m pd\u001b[38;5;241m.\u001b[39mSeries(model\u001b[38;5;241m.\u001b[39mcoef_)\n",
      "\u001b[1;31mNameError\u001b[0m: name 'LinearRegression' is not defined"
     ]
    }
   ],
   "source": [
    "model = LinearRegression()\n",
    "model.fit(X, Y)\n",
    "coefficients = pd.Series(model.coef_)"
   ]
  },
  {
   "cell_type": "markdown",
   "id": "c70d441883ebfeef",
   "metadata": {
    "collapsed": false,
    "jupyter": {
     "outputs_hidden": false
    }
   },
   "source": [
    "## Summary"
   ]
  },
  {
   "cell_type": "code",
   "execution_count": 11,
   "id": "e4bedbe6d2a71b4",
   "metadata": {
    "ExecuteTime": {
     "end_time": "2023-10-01T18:37:01.759030100Z",
     "start_time": "2023-10-01T18:37:01.733555100Z"
    },
    "collapsed": false,
    "jupyter": {
     "outputs_hidden": false
    }
   },
   "outputs": [
    {
     "data": {
      "text/html": [
       "<div>\n",
       "<style scoped>\n",
       "    .dataframe tbody tr th:only-of-type {\n",
       "        vertical-align: middle;\n",
       "    }\n",
       "\n",
       "    .dataframe tbody tr th {\n",
       "        vertical-align: top;\n",
       "    }\n",
       "\n",
       "    .dataframe thead th {\n",
       "        text-align: right;\n",
       "    }\n",
       "</style>\n",
       "<table border=\"1\" class=\"dataframe\">\n",
       "  <thead>\n",
       "    <tr style=\"text-align: right;\">\n",
       "      <th></th>\n",
       "      <th>Linear hypothesis</th>\n",
       "      <th>Analytical solution</th>\n",
       "      <th>Lin Regression (scikit)</th>\n",
       "    </tr>\n",
       "  </thead>\n",
       "  <tbody>\n",
       "    <tr>\n",
       "      <th>area</th>\n",
       "      <td>0.439452</td>\n",
       "      <td>0.439452</td>\n",
       "      <td>0.439452</td>\n",
       "    </tr>\n",
       "    <tr>\n",
       "      <th>bedrooms</th>\n",
       "      <td>0.160529</td>\n",
       "      <td>0.160529</td>\n",
       "      <td>0.160529</td>\n",
       "    </tr>\n",
       "    <tr>\n",
       "      <th>bathrooms</th>\n",
       "      <td>0.372344</td>\n",
       "      <td>0.372344</td>\n",
       "      <td>0.372344</td>\n",
       "    </tr>\n",
       "  </tbody>\n",
       "</table>\n",
       "</div>"
      ],
      "text/plain": [
       "           Linear hypothesis  Analytical solution  Lin Regression (scikit)\n",
       "area                0.439452             0.439452                 0.439452\n",
       "bedrooms            0.160529             0.160529                 0.160529\n",
       "bathrooms           0.372344             0.372344                 0.372344"
      ]
     },
     "execution_count": 11,
     "metadata": {},
     "output_type": "execute_result"
    }
   ],
   "source": [
    "summary = pd.DataFrame({'Linear hypothesis':calculated_weights, 'Analytical solution': analytical, 'Lin Regression (scikit)': coefficients})\n",
    "summary.index = ['area', 'bedrooms', 'bathrooms']\n",
    "summary"
   ]
  }
 ],
 "metadata": {
  "kernelspec": {
   "display_name": "Python 3 (ipykernel)",
   "language": "python",
   "name": "python3"
  },
  "language_info": {
   "codemirror_mode": {
    "name": "ipython",
    "version": 3
   },
   "file_extension": ".py",
   "mimetype": "text/x-python",
   "name": "python",
   "nbconvert_exporter": "python",
   "pygments_lexer": "ipython3",
   "version": "3.11.3"
  }
 },
 "nbformat": 4,
 "nbformat_minor": 5
}
