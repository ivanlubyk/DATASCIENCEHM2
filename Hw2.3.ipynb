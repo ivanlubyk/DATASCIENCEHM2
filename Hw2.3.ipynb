{
 "cells": [
  {
   "cell_type": "code",
   "execution_count": 31,
   "id": "initial_id",
   "metadata": {
    "ExecuteTime": {
     "end_time": "2023-09-28T12:54:42.522016700Z",
     "start_time": "2023-09-28T12:54:41.170964400Z"
    },
    "collapsed": true,
    "jupyter": {
     "outputs_hidden": true
    }
   },
   "outputs": [],
   "source": [
    "%matplotlib inline\n",
    "import pandas as pd\n",
    "import matplotlib.pyplot as plt\n",
    "import seaborn as sns"
   ]
  },
  {
   "cell_type": "markdown",
   "id": "c4d4c9001eb4ede8",
   "metadata": {
    "collapsed": false,
    "jupyter": {
     "outputs_hidden": false
    }
   },
   "source": [
    "Для цієї вправи ми використовуємо дані за Топ-50 рейтингом книг, що найбільше продаються на Amazon за 11 років (з 2009 по 2019). Датасет знаходиться у відкритому доступі на Kaggle.com. Завантажте файл csv за посиланням і перемістіть його в ту саму директорію, де знаходиться ваш робочий ноутбук (для зручності"
   ]
  },
  {
   "cell_type": "markdown",
   "id": "b97b2ef8c72a7b42",
   "metadata": {
    "collapsed": false,
    "jupyter": {
     "outputs_hidden": false
    }
   },
   "source": [
    "books_data.head()"
   ]
  },
  {
   "cell_type": "code",
   "execution_count": 32,
   "id": "1ad65b77e7263f8b",
   "metadata": {
    "ExecuteTime": {
     "end_time": "2023-09-28T12:54:42.543942700Z",
     "start_time": "2023-09-28T12:54:42.525017100Z"
    },
    "collapsed": false,
    "jupyter": {
     "outputs_hidden": false
    }
   },
   "outputs": [
    {
     "data": {
      "text/html": [
       "<div>\n",
       "<style scoped>\n",
       "    .dataframe tbody tr th:only-of-type {\n",
       "        vertical-align: middle;\n",
       "    }\n",
       "\n",
       "    .dataframe tbody tr th {\n",
       "        vertical-align: top;\n",
       "    }\n",
       "\n",
       "    .dataframe thead th {\n",
       "        text-align: right;\n",
       "    }\n",
       "</style>\n",
       "<table border=\"1\" class=\"dataframe\">\n",
       "  <thead>\n",
       "    <tr style=\"text-align: right;\">\n",
       "      <th></th>\n",
       "      <th>Name</th>\n",
       "      <th>Author</th>\n",
       "      <th>User Rating</th>\n",
       "      <th>Reviews</th>\n",
       "      <th>Price</th>\n",
       "      <th>Year</th>\n",
       "      <th>Genre</th>\n",
       "    </tr>\n",
       "  </thead>\n",
       "  <tbody>\n",
       "    <tr>\n",
       "      <th>0</th>\n",
       "      <td>10-Day Green Smoothie Cleanse</td>\n",
       "      <td>JJ Smith</td>\n",
       "      <td>4.7</td>\n",
       "      <td>17350</td>\n",
       "      <td>8</td>\n",
       "      <td>2016</td>\n",
       "      <td>Non Fiction</td>\n",
       "    </tr>\n",
       "    <tr>\n",
       "      <th>1</th>\n",
       "      <td>11/22/63: A Novel</td>\n",
       "      <td>Stephen King</td>\n",
       "      <td>4.6</td>\n",
       "      <td>2052</td>\n",
       "      <td>22</td>\n",
       "      <td>2011</td>\n",
       "      <td>Fiction</td>\n",
       "    </tr>\n",
       "    <tr>\n",
       "      <th>2</th>\n",
       "      <td>12 Rules for Life: An Antidote to Chaos</td>\n",
       "      <td>Jordan B. Peterson</td>\n",
       "      <td>4.7</td>\n",
       "      <td>18979</td>\n",
       "      <td>15</td>\n",
       "      <td>2018</td>\n",
       "      <td>Non Fiction</td>\n",
       "    </tr>\n",
       "    <tr>\n",
       "      <th>3</th>\n",
       "      <td>1984 (Signet Classics)</td>\n",
       "      <td>George Orwell</td>\n",
       "      <td>4.7</td>\n",
       "      <td>21424</td>\n",
       "      <td>6</td>\n",
       "      <td>2017</td>\n",
       "      <td>Fiction</td>\n",
       "    </tr>\n",
       "    <tr>\n",
       "      <th>4</th>\n",
       "      <td>5,000 Awesome Facts (About Everything!) (Natio...</td>\n",
       "      <td>National Geographic Kids</td>\n",
       "      <td>4.8</td>\n",
       "      <td>7665</td>\n",
       "      <td>12</td>\n",
       "      <td>2019</td>\n",
       "      <td>Non Fiction</td>\n",
       "    </tr>\n",
       "  </tbody>\n",
       "</table>\n",
       "</div>"
      ],
      "text/plain": [
       "                                                Name  \\\n",
       "0                      10-Day Green Smoothie Cleanse   \n",
       "1                                  11/22/63: A Novel   \n",
       "2            12 Rules for Life: An Antidote to Chaos   \n",
       "3                             1984 (Signet Classics)   \n",
       "4  5,000 Awesome Facts (About Everything!) (Natio...   \n",
       "\n",
       "                     Author  User Rating  Reviews  Price  Year        Genre  \n",
       "0                  JJ Smith          4.7    17350      8  2016  Non Fiction  \n",
       "1              Stephen King          4.6     2052     22  2011      Fiction  \n",
       "2        Jordan B. Peterson          4.7    18979     15  2018  Non Fiction  \n",
       "3             George Orwell          4.7    21424      6  2017      Fiction  \n",
       "4  National Geographic Kids          4.8     7665     12  2019  Non Fiction  "
      ]
     },
     "execution_count": 32,
     "metadata": {},
     "output_type": "execute_result"
    }
   ],
   "source": [
    "books_data = pd.read_csv('bestsellers with categories.csv')\n",
    "books_data.head()"
   ]
  },
  {
   "cell_type": "code",
   "execution_count": 33,
   "id": "a950c1ec55903e15",
   "metadata": {
    "ExecuteTime": {
     "end_time": "2023-09-28T12:54:42.564287200Z",
     "start_time": "2023-09-28T12:54:42.543942700Z"
    },
    "collapsed": false,
    "jupyter": {
     "outputs_hidden": false
    }
   },
   "outputs": [
    {
     "data": {
      "text/plain": [
       "(550, 7)"
      ]
     },
     "execution_count": 33,
     "metadata": {},
     "output_type": "execute_result"
    }
   ],
   "source": [
    "books_data.shape"
   ]
  },
  {
   "cell_type": "code",
   "execution_count": 34,
   "id": "6ce9ecc8b508e7e4",
   "metadata": {
    "ExecuteTime": {
     "end_time": "2023-09-28T12:54:42.617584Z",
     "start_time": "2023-09-28T12:54:42.552942900Z"
    },
    "collapsed": false,
    "jupyter": {
     "outputs_hidden": false
    }
   },
   "outputs": [],
   "source": [
    "# remove duplicates by name\n",
    "books_data = books_data.drop_duplicates(subset='Name')"
   ]
  },
  {
   "cell_type": "code",
   "execution_count": 35,
   "id": "82243f854795ca54",
   "metadata": {
    "ExecuteTime": {
     "end_time": "2023-09-28T12:54:42.618588900Z",
     "start_time": "2023-09-28T12:54:42.559348900Z"
    },
    "collapsed": false,
    "jupyter": {
     "outputs_hidden": false
    }
   },
   "outputs": [
    {
     "data": {
      "text/plain": [
       "(351, 7)"
      ]
     },
     "execution_count": 35,
     "metadata": {},
     "output_type": "execute_result"
    }
   ],
   "source": [
    "books_data.shape"
   ]
  },
  {
   "cell_type": "markdown",
   "id": "fcbaec497fc3cf39",
   "metadata": {
    "collapsed": false,
    "jupyter": {
     "outputs_hidden": false
    }
   },
   "source": [
    "Для спрощення подальшої роботи давайте трохи підправимо назви змінних. Як бачите, тут усі назви починаються з великої літери, а одна - навіть містить пробіл. Це дуже небажано і може бути досить незручним. Давайте змінимо регістр на малий, а пробіл замінимо на нижнє підкреслення (snake_style). А заразом і вивчимо корисний атрибут датафрейму: columns (можна просто присвоїти список нових імен цьому атрибуту)"
   ]
  },
  {
   "cell_type": "code",
   "execution_count": 36,
   "id": "406bd50dec762479",
   "metadata": {
    "ExecuteTime": {
     "end_time": "2023-09-28T12:54:42.620583900Z",
     "start_time": "2023-09-28T12:54:42.566260700Z"
    },
    "collapsed": false,
    "jupyter": {
     "outputs_hidden": false
    }
   },
   "outputs": [],
   "source": [
    "books_data.columns = ['name', 'author', 'user_rating', 'reviews', 'price', 'year', 'genre']"
   ]
  },
  {
   "cell_type": "markdown",
   "id": "60e0dff2f0dcaca8",
   "metadata": {
    "collapsed": false,
    "jupyter": {
     "outputs_hidden": false
    }
   },
   "source": [
    "## Первинне дослідження даних"
   ]
  },
  {
   "cell_type": "code",
   "execution_count": 37,
   "id": "aad86095e8ecdb7d",
   "metadata": {
    "ExecuteTime": {
     "end_time": "2023-09-28T12:54:42.620583900Z",
     "start_time": "2023-09-28T12:54:42.571042900Z"
    },
    "collapsed": false,
    "jupyter": {
     "outputs_hidden": false
    }
   },
   "outputs": [
    {
     "data": {
      "text/plain": [
       "name            object\n",
       "author          object\n",
       "user_rating    float64\n",
       "reviews          int64\n",
       "price            int64\n",
       "year             int64\n",
       "genre           object\n",
       "dtype: object"
      ]
     },
     "execution_count": 37,
     "metadata": {},
     "output_type": "execute_result"
    }
   ],
   "source": [
    "books_data.dtypes"
   ]
  },
  {
   "cell_type": "code",
   "execution_count": 38,
   "id": "ceec64f5e93014a5",
   "metadata": {
    "ExecuteTime": {
     "end_time": "2023-09-28T12:54:42.699584600Z",
     "start_time": "2023-09-28T12:54:42.578673600Z"
    },
    "collapsed": false,
    "jupyter": {
     "outputs_hidden": false
    }
   },
   "outputs": [
    {
     "data": {
      "text/plain": [
       "name           0\n",
       "author         0\n",
       "user_rating    0\n",
       "reviews        0\n",
       "price          0\n",
       "year           0\n",
       "genre          0\n",
       "dtype: int64"
      ]
     },
     "execution_count": 38,
     "metadata": {},
     "output_type": "execute_result"
    }
   ],
   "source": [
    "books_data_nans = books_data.isna().sum()\n",
    "books_data_nans"
   ]
  },
  {
   "cell_type": "code",
   "execution_count": 39,
   "id": "9f8b3249a696ce7",
   "metadata": {
    "ExecuteTime": {
     "end_time": "2023-09-28T12:54:42.700584500Z",
     "start_time": "2023-09-28T12:54:42.589584400Z"
    },
    "collapsed": false,
    "jupyter": {
     "outputs_hidden": false
    }
   },
   "outputs": [
    {
     "data": {
      "text/plain": [
       "array(['Non Fiction', 'Fiction'], dtype=object)"
      ]
     },
     "execution_count": 39,
     "metadata": {},
     "output_type": "execute_result"
    }
   ],
   "source": [
    "unique_genres = books_data[\"genre\"].unique()\n",
    "unique_genres"
   ]
  },
  {
   "cell_type": "code",
   "execution_count": 40,
   "id": "8b6dbda0c3202a67",
   "metadata": {
    "ExecuteTime": {
     "end_time": "2023-09-28T12:54:42.905257Z",
     "start_time": "2023-09-28T12:54:42.602585100Z"
    },
    "collapsed": false,
    "jupyter": {
     "outputs_hidden": false
    }
   },
   "outputs": [
    {
     "data": {
      "image/png": "[encoded data removed]",
      "text/plain": [
       "<Figure size 640x480 with 1 Axes>"
      ]
     },
     "metadata": {},
     "output_type": "display_data"
    }
   ],
   "source": [
    "# Тепер подивіться на розподіл цін: побудуйте діаграму (використовуйте kind='hist')\n",
    "books_data['price'] = pd.to_numeric(books_data['price'], errors='coerce')\n",
    "books_data['price'].plot(kind='hist', bins='fd', edgecolor='black' )\n",
    "plt.title('Розподіл цін')\n",
    "plt.xlabel('Ціна')\n",
    "plt.ylabel('Кількість книг')\n",
    "plt.show()"
   ]
  },
  {
   "cell_type": "code",
   "execution_count": 41,
   "id": "f3bdc57ae0a852d5",
   "metadata": {
    "ExecuteTime": {
     "end_time": "2023-09-28T12:54:42.949191500Z",
     "start_time": "2023-09-28T12:54:42.904258500Z"
    },
    "collapsed": false,
    "jupyter": {
     "outputs_hidden": false
    }
   },
   "outputs": [
    {
     "data": {
      "text/plain": [
       "max       105.000000\n",
       "min         0.000000\n",
       "mean       13.076923\n",
       "median     12.000000\n",
       "Name: price, dtype: float64"
      ]
     },
     "execution_count": 41,
     "metadata": {},
     "output_type": "execute_result"
    }
   ],
   "source": [
    "price_stats = books_data['price'].agg(['max', 'min', 'mean', 'median'])\n",
    "price_stats"
   ]
  },
  {
   "cell_type": "markdown",
   "id": "e2de2198342d914c",
   "metadata": {
    "collapsed": false,
    "jupyter": {
     "outputs_hidden": false
    }
   },
   "source": [
    "## Первинне дослідження даних (Summary)"
   ]
  },
  {
   "cell_type": "code",
   "execution_count": 42,
   "id": "4ae468ac1a375e29",
   "metadata": {
    "ExecuteTime": {
     "end_time": "2023-09-28T12:54:42.949191500Z",
     "start_time": "2023-09-28T12:54:42.915872200Z"
    },
    "collapsed": false,
    "jupyter": {
     "outputs_hidden": false
    }
   },
   "outputs": [
    {
     "name": "stdout",
     "output_type": "stream",
     "text": [
      "Про скільки книг зберігає дані датасет?\n",
      "\tВідповідь: 351\n",
      "Чи є в якихось змінних пропуски?\n",
      "\tВідповідь: Ні\n",
      "Які є унікальні жанри?\n",
      "\tВідповідь:  Non Fiction, Fiction\n",
      "Максимальна ціна?\n",
      "\tВідповідь: 105.0\n",
      "Мінімальна ціна?\n",
      "\tВідповідь: 0.0\n",
      "Середня ціна?\n",
      "\tВідповідь: 13.077\n",
      "Медіанна ціна?\n",
      "\tВідповідь: 12.0\n"
     ]
    }
   ],
   "source": [
    "print(f'Про скільки книг зберігає дані датасет?\\n\\tВідповідь: {books_data.shape[0]}')\n",
    "print(f'Чи є в якихось змінних пропуски?\\n\\tВідповідь: {\"Так\" if books_data_nans.sum() !=0 else \"Ні\"}')\n",
    "print(f'Які є унікальні жанри?\\n\\tВідповідь:  {\", \".join(unique_genres)}')\n",
    "print(f'Максимальна ціна?\\n\\tВідповідь: {price_stats[0]}')\n",
    "print(f'Мінімальна ціна?\\n\\tВідповідь: {price_stats[1]}')\n",
    "print(f'Середня ціна?\\n\\tВідповідь: {price_stats[2].round(3)}')\n",
    "print(f'Медіанна ціна?\\n\\tВідповідь: {price_stats[3]}')\n"
   ]
  },
  {
   "cell_type": "markdown",
   "id": "ae1b6b574dd261a9",
   "metadata": {
    "collapsed": false,
    "jupyter": {
     "outputs_hidden": false
    }
   },
   "source": [
    "## Пошук та сортування даних"
   ]
  },
  {
   "cell_type": "code",
   "execution_count": 43,
   "id": "aff034a1bf354ab8",
   "metadata": {
    "ExecuteTime": {
     "end_time": "2023-09-28T12:54:42.950171200Z",
     "start_time": "2023-09-28T12:54:42.923426500Z"
    },
    "collapsed": false,
    "jupyter": {
     "outputs_hidden": false
    }
   },
   "outputs": [
    {
     "data": {
      "text/plain": [
       "4.9"
      ]
     },
     "execution_count": 43,
     "metadata": {},
     "output_type": "execute_result"
    }
   ],
   "source": [
    "# Який рейтинг у датасеті найвищий?\n",
    "max_rating = books_data['user_rating'].max()\n",
    "max_rating"
   ]
  },
  {
   "cell_type": "code",
   "execution_count": 44,
   "id": "9c27cb080d4966f5",
   "metadata": {
    "ExecuteTime": {
     "end_time": "2023-09-28T12:54:43.082364100Z",
     "start_time": "2023-09-28T12:54:42.929984600Z"
    },
    "collapsed": false,
    "jupyter": {
     "outputs_hidden": false
    }
   },
   "outputs": [
    {
     "data": {
      "text/plain": [
       "28"
      ]
     },
     "execution_count": 44,
     "metadata": {},
     "output_type": "execute_result"
    }
   ],
   "source": [
    "# Скільки книг мають такий рейтинг?\n",
    "books_max_rating = (books_data[books_data['user_rating'] == max_rating])\n",
    "books_max_rating_count = len(books_max_rating)\n",
    "books_max_rating_count"
   ]
  },
  {
   "cell_type": "code",
   "execution_count": 45,
   "id": "f748d7cba319b633",
   "metadata": {
    "ExecuteTime": {
     "end_time": "2023-09-28T12:54:43.083364700Z",
     "start_time": "2023-09-28T12:54:42.937929900Z"
    },
    "collapsed": false,
    "jupyter": {
     "outputs_hidden": false
    }
   },
   "outputs": [
    {
     "data": {
      "text/html": [
       "<div>\n",
       "<style scoped>\n",
       "    .dataframe tbody tr th:only-of-type {\n",
       "        vertical-align: middle;\n",
       "    }\n",
       "\n",
       "    .dataframe tbody tr th {\n",
       "        vertical-align: top;\n",
       "    }\n",
       "\n",
       "    .dataframe thead th {\n",
       "        text-align: right;\n",
       "    }\n",
       "</style>\n",
       "<table border=\"1\" class=\"dataframe\">\n",
       "  <thead>\n",
       "    <tr style=\"text-align: right;\">\n",
       "      <th></th>\n",
       "      <th>name</th>\n",
       "      <th>author</th>\n",
       "      <th>user_rating</th>\n",
       "      <th>reviews</th>\n",
       "      <th>price</th>\n",
       "      <th>year</th>\n",
       "      <th>genre</th>\n",
       "    </tr>\n",
       "  </thead>\n",
       "  <tbody>\n",
       "    <tr>\n",
       "      <th>534</th>\n",
       "      <td>Where the Crawdads Sing</td>\n",
       "      <td>Delia Owens</td>\n",
       "      <td>4.8</td>\n",
       "      <td>87841</td>\n",
       "      <td>15</td>\n",
       "      <td>2019</td>\n",
       "      <td>Fiction</td>\n",
       "    </tr>\n",
       "  </tbody>\n",
       "</table>\n",
       "</div>"
      ],
      "text/plain": [
       "                        name       author  user_rating  reviews  price  year  \\\n",
       "534  Where the Crawdads Sing  Delia Owens          4.8    87841     15  2019   \n",
       "\n",
       "       genre  \n",
       "534  Fiction  "
      ]
     },
     "execution_count": 45,
     "metadata": {},
     "output_type": "execute_result"
    }
   ],
   "source": [
    "# Яка книга має найбільше відгуків?\n",
    "max_reviews = books_data['reviews'].max()\n",
    "book_with_max_reviews = books_data[books_data['reviews']==max_reviews]\n",
    "book_with_max_reviews"
   ]
  },
  {
   "cell_type": "code",
   "execution_count": 46,
   "id": "84f5e878cb75e08f",
   "metadata": {
    "ExecuteTime": {
     "end_time": "2023-09-28T12:54:43.114682700Z",
     "start_time": "2023-09-28T12:54:42.950171200Z"
    },
    "collapsed": false,
    "jupyter": {
     "outputs_hidden": false
    }
   },
   "outputs": [
    {
     "data": {
      "text/html": [
       "<div>\n",
       "<style scoped>\n",
       "    .dataframe tbody tr th:only-of-type {\n",
       "        vertical-align: middle;\n",
       "    }\n",
       "\n",
       "    .dataframe tbody tr th {\n",
       "        vertical-align: top;\n",
       "    }\n",
       "\n",
       "    .dataframe thead th {\n",
       "        text-align: right;\n",
       "    }\n",
       "</style>\n",
       "<table border=\"1\" class=\"dataframe\">\n",
       "  <thead>\n",
       "    <tr style=\"text-align: right;\">\n",
       "      <th></th>\n",
       "      <th>name</th>\n",
       "      <th>author</th>\n",
       "      <th>user_rating</th>\n",
       "      <th>reviews</th>\n",
       "      <th>price</th>\n",
       "      <th>year</th>\n",
       "      <th>genre</th>\n",
       "    </tr>\n",
       "  </thead>\n",
       "  <tbody>\n",
       "    <tr>\n",
       "      <th>132</th>\n",
       "      <td>Go Set a Watchman: A Novel</td>\n",
       "      <td>Harper Lee</td>\n",
       "      <td>3.6</td>\n",
       "      <td>14982</td>\n",
       "      <td>19</td>\n",
       "      <td>2015</td>\n",
       "      <td>Fiction</td>\n",
       "    </tr>\n",
       "  </tbody>\n",
       "</table>\n",
       "</div>"
      ],
      "text/plain": [
       "                           name      author  user_rating  reviews  price  \\\n",
       "132  Go Set a Watchman: A Novel  Harper Lee          3.6    14982     19   \n",
       "\n",
       "     year    genre  \n",
       "132  2015  Fiction  "
      ]
     },
     "execution_count": 46,
     "metadata": {},
     "output_type": "execute_result"
    }
   ],
   "source": [
    "# З тих книг, що потрапили до Топ-50 у 2015 році, яка книга найдорожча (можна використати проміжний датафрейм)?\n",
    "year = 2015\n",
    "top_50_year = books_data[books_data['year'] == year].sort_values(by='price', ascending=False).head(50)\n",
    "max_price = top_50_year['price'].max()\n",
    "book_with_max_price_year = top_50_year[top_50_year['price'] == max_price]\n",
    "book_with_max_price_year"
   ]
  },
  {
   "cell_type": "code",
   "execution_count": 47,
   "id": "ada4700018a717ce",
   "metadata": {
    "ExecuteTime": {
     "end_time": "2023-09-28T12:54:43.114682700Z",
     "start_time": "2023-09-28T12:54:42.964204300Z"
    },
    "collapsed": false,
    "jupyter": {
     "outputs_hidden": false
    }
   },
   "outputs": [
    {
     "data": {
      "text/plain": [
       "17"
      ]
     },
     "execution_count": 47,
     "metadata": {},
     "output_type": "execute_result"
    }
   ],
   "source": [
    "# Скільки книг жанру Fiction потрапили до Топ-50 у 2010 році? \n",
    "year = 2010\n",
    "genre = 'Fiction'\n",
    "top_50_year = books_data[books_data['year'] == year].sort_values(by='price', ascending=False).head(50)\n",
    "genre_in_top_50_year = top_50_year[top_50_year['genre']== genre]\n",
    "genre_in_top_50_year_count = len(genre_in_top_50_year)\n",
    "genre_in_top_50_year_count"
   ]
  },
  {
   "cell_type": "code",
   "execution_count": 48,
   "id": "26aa36ef7a78ceff",
   "metadata": {
    "ExecuteTime": {
     "end_time": "2023-09-28T12:54:43.114682700Z",
     "start_time": "2023-09-28T12:54:42.973759Z"
    },
    "collapsed": false,
    "jupyter": {
     "outputs_hidden": false
    }
   },
   "outputs": [
    {
     "data": {
      "text/plain": [
       "1"
      ]
     },
     "execution_count": 48,
     "metadata": {},
     "output_type": "execute_result"
    }
   ],
   "source": [
    "# Скільки книг з рейтингом 4.9 потрапило до рейтингу у 2010 та 2011 роках (використовуйте | або функцію isin)?\n",
    "years = [2010, 2011]\n",
    "rating = 4.9\n",
    "books_with_rating_in_years = books_data[(books_data['user_rating'] == float(rating)) & (books_data['year'].isin(years))]\n",
    "books_with_rating_in_years_count = len(books_with_rating_in_years)\n",
    "books_with_rating_in_years_count"
   ]
  },
  {
   "cell_type": "code",
   "execution_count": 49,
   "id": "1ba4123c047ee98c",
   "metadata": {
    "ExecuteTime": {
     "end_time": "2023-09-28T12:54:43.115682300Z",
     "start_time": "2023-09-28T12:54:42.982982600Z"
    },
    "collapsed": false,
    "jupyter": {
     "outputs_hidden": false
    }
   },
   "outputs": [
    {
     "data": {
      "text/html": [
       "<div>\n",
       "<style scoped>\n",
       "    .dataframe tbody tr th:only-of-type {\n",
       "        vertical-align: middle;\n",
       "    }\n",
       "\n",
       "    .dataframe tbody tr th {\n",
       "        vertical-align: top;\n",
       "    }\n",
       "\n",
       "    .dataframe thead th {\n",
       "        text-align: right;\n",
       "    }\n",
       "</style>\n",
       "<table border=\"1\" class=\"dataframe\">\n",
       "  <thead>\n",
       "    <tr style=\"text-align: right;\">\n",
       "      <th></th>\n",
       "      <th>name</th>\n",
       "      <th>author</th>\n",
       "      <th>user_rating</th>\n",
       "      <th>reviews</th>\n",
       "      <th>price</th>\n",
       "      <th>year</th>\n",
       "      <th>genre</th>\n",
       "    </tr>\n",
       "  </thead>\n",
       "  <tbody>\n",
       "    <tr>\n",
       "      <th>54</th>\n",
       "      <td>Creative Haven Creative Cats Coloring Book (Ad...</td>\n",
       "      <td>Marjorie Sarnat</td>\n",
       "      <td>4.8</td>\n",
       "      <td>4022</td>\n",
       "      <td>4</td>\n",
       "      <td>2015</td>\n",
       "      <td>Non Fiction</td>\n",
       "    </tr>\n",
       "    <tr>\n",
       "      <th>123</th>\n",
       "      <td>Giraffes Can't Dance</td>\n",
       "      <td>Giles Andreae</td>\n",
       "      <td>4.8</td>\n",
       "      <td>14038</td>\n",
       "      <td>4</td>\n",
       "      <td>2015</td>\n",
       "      <td>Fiction</td>\n",
       "    </tr>\n",
       "    <tr>\n",
       "      <th>28</th>\n",
       "      <td>Baby Touch and Feel: Animals</td>\n",
       "      <td>DK</td>\n",
       "      <td>4.6</td>\n",
       "      <td>5360</td>\n",
       "      <td>5</td>\n",
       "      <td>2015</td>\n",
       "      <td>Non Fiction</td>\n",
       "    </tr>\n",
       "    <tr>\n",
       "      <th>55</th>\n",
       "      <td>Creative Haven Owls Coloring Book (Adult Color...</td>\n",
       "      <td>Marjorie Sarnat</td>\n",
       "      <td>4.8</td>\n",
       "      <td>3871</td>\n",
       "      <td>5</td>\n",
       "      <td>2015</td>\n",
       "      <td>Non Fiction</td>\n",
       "    </tr>\n",
       "    <tr>\n",
       "      <th>63</th>\n",
       "      <td>Dear Zoo: A Lift-the-Flap Book</td>\n",
       "      <td>Rod Campbell</td>\n",
       "      <td>4.8</td>\n",
       "      <td>10922</td>\n",
       "      <td>5</td>\n",
       "      <td>2015</td>\n",
       "      <td>Fiction</td>\n",
       "    </tr>\n",
       "  </tbody>\n",
       "</table>\n",
       "</div>"
      ],
      "text/plain": [
       "                                                  name           author  \\\n",
       "54   Creative Haven Creative Cats Coloring Book (Ad...  Marjorie Sarnat   \n",
       "123                               Giraffes Can't Dance    Giles Andreae   \n",
       "28                        Baby Touch and Feel: Animals               DK   \n",
       "55   Creative Haven Owls Coloring Book (Adult Color...  Marjorie Sarnat   \n",
       "63                      Dear Zoo: A Lift-the-Flap Book     Rod Campbell   \n",
       "\n",
       "     user_rating  reviews  price  year        genre  \n",
       "54           4.8     4022      4  2015  Non Fiction  \n",
       "123          4.8    14038      4  2015      Fiction  \n",
       "28           4.6     5360      5  2015  Non Fiction  \n",
       "55           4.8     3871      5  2015  Non Fiction  \n",
       "63           4.8    10922      5  2015      Fiction  "
      ]
     },
     "execution_count": 49,
     "metadata": {},
     "output_type": "execute_result"
    }
   ],
   "source": [
    "# І насамкінець, давайте відсортуємо за зростанням ціни всі книги, які потрапили до рейтингу в 2015 році і коштують дешевше за 8 доларів (використовуйте функцію sort_values).\n",
    "year = 2015\n",
    "max_price = 8\n",
    "books_with_max_cost_in_year = books_data[(books_data['year'] == year) & (books_data['price'] < max_price)].sort_values(by='price', ascending=True)\n",
    "books_with_max_cost_in_year.head()"
   ]
  },
  {
   "cell_type": "code",
   "execution_count": 50,
   "id": "2404285a1f293307",
   "metadata": {
    "ExecuteTime": {
     "end_time": "2023-09-28T12:54:43.115682300Z",
     "start_time": "2023-09-28T12:54:42.997984300Z"
    },
    "collapsed": false,
    "jupyter": {
     "outputs_hidden": false
    }
   },
   "outputs": [
    {
     "data": {
      "text/html": [
       "<div>\n",
       "<style scoped>\n",
       "    .dataframe tbody tr th:only-of-type {\n",
       "        vertical-align: middle;\n",
       "    }\n",
       "\n",
       "    .dataframe tbody tr th {\n",
       "        vertical-align: top;\n",
       "    }\n",
       "\n",
       "    .dataframe thead th {\n",
       "        text-align: right;\n",
       "    }\n",
       "</style>\n",
       "<table border=\"1\" class=\"dataframe\">\n",
       "  <thead>\n",
       "    <tr style=\"text-align: right;\">\n",
       "      <th></th>\n",
       "      <th>name</th>\n",
       "      <th>author</th>\n",
       "      <th>user_rating</th>\n",
       "      <th>reviews</th>\n",
       "      <th>price</th>\n",
       "      <th>year</th>\n",
       "      <th>genre</th>\n",
       "    </tr>\n",
       "  </thead>\n",
       "  <tbody>\n",
       "    <tr>\n",
       "      <th>253</th>\n",
       "      <td>Old School (Diary of a Wimpy Kid #10)</td>\n",
       "      <td>Jeff Kinney</td>\n",
       "      <td>4.8</td>\n",
       "      <td>6169</td>\n",
       "      <td>7</td>\n",
       "      <td>2015</td>\n",
       "      <td>Fiction</td>\n",
       "    </tr>\n",
       "  </tbody>\n",
       "</table>\n",
       "</div>"
      ],
      "text/plain": [
       "                                      name       author  user_rating  reviews  \\\n",
       "253  Old School (Diary of a Wimpy Kid #10)  Jeff Kinney          4.8     6169   \n",
       "\n",
       "     price  year    genre  \n",
       "253      7  2015  Fiction  "
      ]
     },
     "execution_count": 50,
     "metadata": {},
     "output_type": "execute_result"
    }
   ],
   "source": [
    "#  Яка книга остання у відсортованому списку?\n",
    "books_with_max_cost_in_year[-1:]"
   ]
  },
  {
   "cell_type": "markdown",
   "id": "75ee4f1027805f47",
   "metadata": {
    "collapsed": false,
    "jupyter": {
     "outputs_hidden": false
    }
   },
   "source": [
    "## Пошук та сортування даних (Summary)"
   ]
  },
  {
   "cell_type": "code",
   "execution_count": 51,
   "id": "6ec28967eea13103",
   "metadata": {
    "ExecuteTime": {
     "end_time": "2023-09-28T12:54:43.134522800Z",
     "start_time": "2023-09-28T12:54:43.011165200Z"
    },
    "collapsed": false,
    "jupyter": {
     "outputs_hidden": false
    }
   },
   "outputs": [
    {
     "name": "stdout",
     "output_type": "stream",
     "text": [
      "Який рейтинг у датасеті найвищий?\n",
      "\tВідповідь: 4.9\n",
      "Скільки книг мають такий рейтинг?\n",
      "\tВідповідь: 28\n",
      "Яка книга має найбільше відгуків?\n",
      "\tВідповідь: Where the Crawdads Sing\n",
      "З тих книг, що потрапили до Топ-50 у 2015 році, яка книга найдорожча?\n",
      "\tВідповідь: Go Set a Watchman: A Novel\n",
      "Скільки книг жанру Fiction потрапили до Топ-50 у 2010 році?\n",
      "\tВідповідь: 17\n",
      "Скільки книг з рейтингом 4.9 потрапило до рейтингу у 2010 та 2011 роках?\n",
      "\tВідповідь: 1\n",
      "Яка книга остання у відсортованому списку?\n",
      "\tВідповідь: Old School (Diary of a Wimpy Kid #10)\n"
     ]
    }
   ],
   "source": [
    "print(f'Який рейтинг у датасеті найвищий?\\n\\tВідповідь: {max_rating}')\n",
    "print(f'Скільки книг мають такий рейтинг?\\n\\tВідповідь: {books_max_rating_count}')\n",
    "print(f'Яка книга має найбільше відгуків?\\n\\tВідповідь: {book_with_max_reviews[\"name\"].iloc[0]}')\n",
    "print(f'З тих книг, що потрапили до Топ-50 у 2015 році, яка книга найдорожча?\\n\\tВідповідь: {book_with_max_price_year[\"name\"].iloc[0]}')\n",
    "print(f'Скільки книг жанру Fiction потрапили до Топ-50 у 2010 році?\\n\\tВідповідь: {genre_in_top_50_year_count}')\n",
    "print(f'Скільки книг з рейтингом 4.9 потрапило до рейтингу у 2010 та 2011 роках?\\n\\tВідповідь: {books_with_rating_in_years_count}')\n",
    "print(f'Яка книга остання у відсортованому списку?\\n\\tВідповідь: {books_with_max_cost_in_year[-1:][\"name\"].iloc[0]}')"
   ]
  },
  {
   "cell_type": "markdown",
   "id": "ef03d329c0e93f9d",
   "metadata": {
    "collapsed": false,
    "jupyter": {
     "outputs_hidden": false
    }
   },
   "source": [
    "## Агрегування даних та з'єднання таблиць"
   ]
  },
  {
   "cell_type": "code",
   "execution_count": 52,
   "id": "39e209dea15cbfe3",
   "metadata": {
    "ExecuteTime": {
     "end_time": "2023-09-28T12:54:43.135527700Z",
     "start_time": "2023-09-28T12:54:43.018869400Z"
    },
    "collapsed": false,
    "jupyter": {
     "outputs_hidden": false
    }
   },
   "outputs": [
    {
     "data": {
      "text/html": [
       "<div>\n",
       "<style scoped>\n",
       "    .dataframe tbody tr th:only-of-type {\n",
       "        vertical-align: middle;\n",
       "    }\n",
       "\n",
       "    .dataframe tbody tr th {\n",
       "        vertical-align: top;\n",
       "    }\n",
       "\n",
       "    .dataframe thead th {\n",
       "        text-align: right;\n",
       "    }\n",
       "</style>\n",
       "<table border=\"1\" class=\"dataframe\">\n",
       "  <thead>\n",
       "    <tr style=\"text-align: right;\">\n",
       "      <th></th>\n",
       "      <th>max</th>\n",
       "      <th>min</th>\n",
       "    </tr>\n",
       "    <tr>\n",
       "      <th>genre</th>\n",
       "      <th></th>\n",
       "      <th></th>\n",
       "    </tr>\n",
       "  </thead>\n",
       "  <tbody>\n",
       "    <tr>\n",
       "      <th>Fiction</th>\n",
       "      <td>82</td>\n",
       "      <td>0</td>\n",
       "    </tr>\n",
       "    <tr>\n",
       "      <th>Non Fiction</th>\n",
       "      <td>105</td>\n",
       "      <td>0</td>\n",
       "    </tr>\n",
       "  </tbody>\n",
       "</table>\n",
       "</div>"
      ],
      "text/plain": [
       "             max  min\n",
       "genre                \n",
       "Fiction       82    0\n",
       "Non Fiction  105    0"
      ]
     },
     "execution_count": 52,
     "metadata": {},
     "output_type": "execute_result"
    }
   ],
   "source": [
    "# Максимальна ціна для жанру Fiction\n",
    "# Мінімальна ціна для жанру Fiction\n",
    "# Максимальна ціна для жанру Non Fiction\n",
    "# Мінімальна ціна для жанру Non Fiction\n",
    "genre_stats = books_data.groupby('genre')['price'].agg(['max', 'min'])\n",
    "genre_stats"
   ]
  },
  {
   "cell_type": "code",
   "execution_count": 53,
   "id": "3ce1dab95b792ef6",
   "metadata": {
    "ExecuteTime": {
     "end_time": "2023-09-28T12:54:43.136521500Z",
     "start_time": "2023-09-28T12:54:43.030235600Z"
    },
    "collapsed": false,
    "jupyter": {
     "outputs_hidden": false
    }
   },
   "outputs": [
    {
     "data": {
      "text/html": [
       "<div>\n",
       "<style scoped>\n",
       "    .dataframe tbody tr th:only-of-type {\n",
       "        vertical-align: middle;\n",
       "    }\n",
       "\n",
       "    .dataframe tbody tr th {\n",
       "        vertical-align: top;\n",
       "    }\n",
       "\n",
       "    .dataframe thead th {\n",
       "        text-align: right;\n",
       "    }\n",
       "</style>\n",
       "<table border=\"1\" class=\"dataframe\">\n",
       "  <thead>\n",
       "    <tr style=\"text-align: right;\">\n",
       "      <th></th>\n",
       "      <th>author</th>\n",
       "      <th>book_count</th>\n",
       "    </tr>\n",
       "  </thead>\n",
       "  <tbody>\n",
       "    <tr>\n",
       "      <th>0</th>\n",
       "      <td>Abraham Verghese</td>\n",
       "      <td>1</td>\n",
       "    </tr>\n",
       "    <tr>\n",
       "      <th>1</th>\n",
       "      <td>Adam Gasiewski</td>\n",
       "      <td>1</td>\n",
       "    </tr>\n",
       "    <tr>\n",
       "      <th>2</th>\n",
       "      <td>Adam Mansbach</td>\n",
       "      <td>1</td>\n",
       "    </tr>\n",
       "    <tr>\n",
       "      <th>3</th>\n",
       "      <td>Adir Levy</td>\n",
       "      <td>1</td>\n",
       "    </tr>\n",
       "    <tr>\n",
       "      <th>4</th>\n",
       "      <td>Admiral William H. McRaven</td>\n",
       "      <td>1</td>\n",
       "    </tr>\n",
       "  </tbody>\n",
       "</table>\n",
       "</div>"
      ],
      "text/plain": [
       "                       author  book_count\n",
       "0            Abraham Verghese           1\n",
       "1              Adam Gasiewski           1\n",
       "2               Adam Mansbach           1\n",
       "3                   Adir Levy           1\n",
       "4  Admiral William H. McRaven           1"
      ]
     },
     "execution_count": 53,
     "metadata": {},
     "output_type": "execute_result"
    }
   ],
   "source": [
    "# створіть новий датафрейм, який вміщатиме кількість книг для кожного з авторів\n",
    "author_book_count = books_data.groupby('author')['name'].count().reset_index()\n",
    "author_book_count.columns = ['author', 'book_count']\n",
    "author_book_count.head()"
   ]
  },
  {
   "cell_type": "code",
   "execution_count": 54,
   "id": "fdde7d70a14b9379",
   "metadata": {
    "ExecuteTime": {
     "end_time": "2023-09-28T12:54:43.136521500Z",
     "start_time": "2023-09-28T12:54:43.040786400Z"
    },
    "collapsed": false,
    "jupyter": {
     "outputs_hidden": false
    }
   },
   "outputs": [
    {
     "data": {
      "text/plain": [
       "(248, 2)"
      ]
     },
     "execution_count": 54,
     "metadata": {},
     "output_type": "execute_result"
    }
   ],
   "source": [
    "# Якої розмірності вийшла таблиця\n",
    "author_book_count.shape"
   ]
  },
  {
   "cell_type": "code",
   "execution_count": 55,
   "id": "f3f637632775b93",
   "metadata": {
    "ExecuteTime": {
     "end_time": "2023-09-28T12:54:43.137522200Z",
     "start_time": "2023-09-28T12:54:43.048786200Z"
    },
    "collapsed": false,
    "jupyter": {
     "outputs_hidden": false
    }
   },
   "outputs": [
    {
     "data": {
      "text/html": [
       "<div>\n",
       "<style scoped>\n",
       "    .dataframe tbody tr th:only-of-type {\n",
       "        vertical-align: middle;\n",
       "    }\n",
       "\n",
       "    .dataframe tbody tr th {\n",
       "        vertical-align: top;\n",
       "    }\n",
       "\n",
       "    .dataframe thead th {\n",
       "        text-align: right;\n",
       "    }\n",
       "</style>\n",
       "<table border=\"1\" class=\"dataframe\">\n",
       "  <thead>\n",
       "    <tr style=\"text-align: right;\">\n",
       "      <th></th>\n",
       "      <th>author</th>\n",
       "      <th>book_count</th>\n",
       "    </tr>\n",
       "  </thead>\n",
       "  <tbody>\n",
       "    <tr>\n",
       "      <th>120</th>\n",
       "      <td>Jeff Kinney</td>\n",
       "      <td>12</td>\n",
       "    </tr>\n",
       "  </tbody>\n",
       "</table>\n",
       "</div>"
      ],
      "text/plain": [
       "          author  book_count\n",
       "120  Jeff Kinney          12"
      ]
     },
     "execution_count": 55,
     "metadata": {},
     "output_type": "execute_result"
    }
   ],
   "source": [
    "# Який автор має найбільше книг?\n",
    "# Скільки книг цього автора?\n",
    "max_book_count = author_book_count['book_count'].max()\n",
    "max_book_author = author_book_count[author_book_count['book_count'] == max_book_count]\n",
    "max_book_author"
   ]
  },
  {
   "cell_type": "code",
   "execution_count": 56,
   "id": "3b35cb2d026df48a",
   "metadata": {
    "ExecuteTime": {
     "end_time": "2023-09-28T12:54:43.137522200Z",
     "start_time": "2023-09-28T12:54:43.059299200Z"
    },
    "collapsed": false,
    "jupyter": {
     "outputs_hidden": false
    }
   },
   "outputs": [
    {
     "data": {
      "text/html": [
       "<div>\n",
       "<style scoped>\n",
       "    .dataframe tbody tr th:only-of-type {\n",
       "        vertical-align: middle;\n",
       "    }\n",
       "\n",
       "    .dataframe tbody tr th {\n",
       "        vertical-align: top;\n",
       "    }\n",
       "\n",
       "    .dataframe thead th {\n",
       "        text-align: right;\n",
       "    }\n",
       "</style>\n",
       "<table border=\"1\" class=\"dataframe\">\n",
       "  <thead>\n",
       "    <tr style=\"text-align: right;\">\n",
       "      <th></th>\n",
       "      <th>author</th>\n",
       "      <th>avg_rating</th>\n",
       "    </tr>\n",
       "  </thead>\n",
       "  <tbody>\n",
       "    <tr>\n",
       "      <th>0</th>\n",
       "      <td>Abraham Verghese</td>\n",
       "      <td>4.6</td>\n",
       "    </tr>\n",
       "    <tr>\n",
       "      <th>1</th>\n",
       "      <td>Adam Gasiewski</td>\n",
       "      <td>4.4</td>\n",
       "    </tr>\n",
       "    <tr>\n",
       "      <th>2</th>\n",
       "      <td>Adam Mansbach</td>\n",
       "      <td>4.8</td>\n",
       "    </tr>\n",
       "    <tr>\n",
       "      <th>3</th>\n",
       "      <td>Adir Levy</td>\n",
       "      <td>4.8</td>\n",
       "    </tr>\n",
       "    <tr>\n",
       "      <th>4</th>\n",
       "      <td>Admiral William H. McRaven</td>\n",
       "      <td>4.7</td>\n",
       "    </tr>\n",
       "  </tbody>\n",
       "</table>\n",
       "</div>"
      ],
      "text/plain": [
       "                       author  avg_rating\n",
       "0            Abraham Verghese         4.6\n",
       "1              Adam Gasiewski         4.4\n",
       "2               Adam Mansbach         4.8\n",
       "3                   Adir Levy         4.8\n",
       "4  Admiral William H. McRaven         4.7"
      ]
     },
     "execution_count": 56,
     "metadata": {},
     "output_type": "execute_result"
    }
   ],
   "source": [
    "# створіть другий датафрейм, який буде вміщати середній рейтинг для кожного автора\n",
    "author_avg_rating = books_data.groupby('author')['user_rating'].mean().reset_index()\n",
    "author_avg_rating.columns = ['author', 'avg_rating']\n",
    "author_avg_rating.head()"
   ]
  },
  {
   "cell_type": "code",
   "execution_count": 57,
   "id": "f25b395800fe45e9",
   "metadata": {
    "ExecuteTime": {
     "end_time": "2023-09-28T12:54:43.137522200Z",
     "start_time": "2023-09-28T12:54:43.071885400Z"
    },
    "collapsed": false,
    "jupyter": {
     "outputs_hidden": false
    }
   },
   "outputs": [
    {
     "data": {
      "text/html": [
       "<div>\n",
       "<style scoped>\n",
       "    .dataframe tbody tr th:only-of-type {\n",
       "        vertical-align: middle;\n",
       "    }\n",
       "\n",
       "    .dataframe tbody tr th {\n",
       "        vertical-align: top;\n",
       "    }\n",
       "\n",
       "    .dataframe thead th {\n",
       "        text-align: right;\n",
       "    }\n",
       "</style>\n",
       "<table border=\"1\" class=\"dataframe\">\n",
       "  <thead>\n",
       "    <tr style=\"text-align: right;\">\n",
       "      <th></th>\n",
       "      <th>author</th>\n",
       "      <th>avg_rating</th>\n",
       "    </tr>\n",
       "  </thead>\n",
       "  <tbody>\n",
       "    <tr>\n",
       "      <th>71</th>\n",
       "      <td>Donna Tartt</td>\n",
       "      <td>3.9</td>\n",
       "    </tr>\n",
       "  </tbody>\n",
       "</table>\n",
       "</div>"
      ],
      "text/plain": [
       "         author  avg_rating\n",
       "71  Donna Tartt         3.9"
      ]
     },
     "execution_count": 57,
     "metadata": {},
     "output_type": "execute_result"
    }
   ],
   "source": [
    "# У якого автора середній рейтинг мінімальний?\n",
    "# Який у цього автора середній рейтинг?\n",
    "min_avg_rating = author_avg_rating['avg_rating'].min()\n",
    "author_min_avg_rating = author_avg_rating[author_avg_rating['avg_rating']== min_avg_rating]\n",
    "author_min_avg_rating"
   ]
  },
  {
   "cell_type": "code",
   "execution_count": 58,
   "id": "2602a98508368548",
   "metadata": {
    "ExecuteTime": {
     "end_time": "2023-09-28T12:54:43.159521900Z",
     "start_time": "2023-09-28T12:54:43.086365Z"
    },
    "collapsed": false,
    "jupyter": {
     "outputs_hidden": false
    }
   },
   "outputs": [
    {
     "data": {
      "text/html": [
       "<div>\n",
       "<style scoped>\n",
       "    .dataframe tbody tr th:only-of-type {\n",
       "        vertical-align: middle;\n",
       "    }\n",
       "\n",
       "    .dataframe tbody tr th {\n",
       "        vertical-align: top;\n",
       "    }\n",
       "\n",
       "    .dataframe thead th {\n",
       "        text-align: right;\n",
       "    }\n",
       "</style>\n",
       "<table border=\"1\" class=\"dataframe\">\n",
       "  <thead>\n",
       "    <tr style=\"text-align: right;\">\n",
       "      <th></th>\n",
       "      <th>author</th>\n",
       "      <th>book_count</th>\n",
       "      <th>avg_rating</th>\n",
       "    </tr>\n",
       "  </thead>\n",
       "  <tbody>\n",
       "    <tr>\n",
       "      <th>0</th>\n",
       "      <td>Abraham Verghese</td>\n",
       "      <td>1</td>\n",
       "      <td>4.6</td>\n",
       "    </tr>\n",
       "    <tr>\n",
       "      <th>1</th>\n",
       "      <td>Adam Gasiewski</td>\n",
       "      <td>1</td>\n",
       "      <td>4.4</td>\n",
       "    </tr>\n",
       "    <tr>\n",
       "      <th>2</th>\n",
       "      <td>Adam Mansbach</td>\n",
       "      <td>1</td>\n",
       "      <td>4.8</td>\n",
       "    </tr>\n",
       "    <tr>\n",
       "      <th>3</th>\n",
       "      <td>Adir Levy</td>\n",
       "      <td>1</td>\n",
       "      <td>4.8</td>\n",
       "    </tr>\n",
       "    <tr>\n",
       "      <th>4</th>\n",
       "      <td>Admiral William H. McRaven</td>\n",
       "      <td>1</td>\n",
       "      <td>4.7</td>\n",
       "    </tr>\n",
       "  </tbody>\n",
       "</table>\n",
       "</div>"
      ],
      "text/plain": [
       "                       author  book_count  avg_rating\n",
       "0            Abraham Verghese           1         4.6\n",
       "1              Adam Gasiewski           1         4.4\n",
       "2               Adam Mansbach           1         4.8\n",
       "3                   Adir Levy           1         4.8\n",
       "4  Admiral William H. McRaven           1         4.7"
      ]
     },
     "execution_count": 58,
     "metadata": {},
     "output_type": "execute_result"
    }
   ],
   "source": [
    "# З'єднайте останні два датафрейми так, щоб для кожного автора було видно кількість книг та середній рейтинг\n",
    "author_book_count_avg_rating = pd.concat([author_book_count, author_avg_rating['avg_rating']], axis=1)\n",
    "author_book_count_avg_rating.head()"
   ]
  },
  {
   "cell_type": "code",
   "execution_count": 59,
   "id": "72fe9046544e98ff",
   "metadata": {
    "ExecuteTime": {
     "end_time": "2023-09-28T12:54:43.319521500Z",
     "start_time": "2023-09-28T12:54:43.099323700Z"
    },
    "collapsed": false,
    "jupyter": {
     "outputs_hidden": false
    }
   },
   "outputs": [
    {
     "data": {
      "text/html": [
       "<div>\n",
       "<style scoped>\n",
       "    .dataframe tbody tr th:only-of-type {\n",
       "        vertical-align: middle;\n",
       "    }\n",
       "\n",
       "    .dataframe tbody tr th {\n",
       "        vertical-align: top;\n",
       "    }\n",
       "\n",
       "    .dataframe thead th {\n",
       "        text-align: right;\n",
       "    }\n",
       "</style>\n",
       "<table border=\"1\" class=\"dataframe\">\n",
       "  <thead>\n",
       "    <tr style=\"text-align: right;\">\n",
       "      <th></th>\n",
       "      <th>author</th>\n",
       "      <th>book_count</th>\n",
       "      <th>avg_rating</th>\n",
       "    </tr>\n",
       "  </thead>\n",
       "  <tbody>\n",
       "    <tr>\n",
       "      <th>71</th>\n",
       "      <td>Donna Tartt</td>\n",
       "      <td>1</td>\n",
       "      <td>3.9</td>\n",
       "    </tr>\n",
       "    <tr>\n",
       "      <th>90</th>\n",
       "      <td>Gallup</td>\n",
       "      <td>1</td>\n",
       "      <td>4.0</td>\n",
       "    </tr>\n",
       "    <tr>\n",
       "      <th>100</th>\n",
       "      <td>Gillian Flynn</td>\n",
       "      <td>1</td>\n",
       "      <td>4.0</td>\n",
       "    </tr>\n",
       "    <tr>\n",
       "      <th>171</th>\n",
       "      <td>Muriel Barbery</td>\n",
       "      <td>1</td>\n",
       "      <td>4.0</td>\n",
       "    </tr>\n",
       "    <tr>\n",
       "      <th>43</th>\n",
       "      <td>Chris Cleave</td>\n",
       "      <td>1</td>\n",
       "      <td>4.1</td>\n",
       "    </tr>\n",
       "  </tbody>\n",
       "</table>\n",
       "</div>"
      ],
      "text/plain": [
       "             author  book_count  avg_rating\n",
       "71      Donna Tartt           1         3.9\n",
       "90           Gallup           1         4.0\n",
       "100   Gillian Flynn           1         4.0\n",
       "171  Muriel Barbery           1         4.0\n",
       "43     Chris Cleave           1         4.1"
      ]
     },
     "execution_count": 59,
     "metadata": {},
     "output_type": "execute_result"
    }
   ],
   "source": [
    "# Відсортуйте датафрейм за зростаючою кількістю книг та зростаючим рейтингом\n",
    "author_book_count_avg_rating_sorted = author_book_count_avg_rating.sort_values(by=['book_count', 'avg_rating'], ascending=[True, True])\n",
    "author_book_count_avg_rating_sorted.head()"
   ]
  },
  {
   "cell_type": "markdown",
   "id": "80fd57fe94d408cf",
   "metadata": {
    "collapsed": false,
    "jupyter": {
     "outputs_hidden": false
    }
   },
   "source": [
    "## Агрегування даних та з'єднання таблиць (summary)"
   ]
  },
  {
   "cell_type": "code",
   "execution_count": 60,
   "id": "2451b21fdafc43af",
   "metadata": {
    "ExecuteTime": {
     "end_time": "2023-09-28T12:54:43.352527200Z",
     "start_time": "2023-09-28T12:54:43.116683400Z"
    },
    "collapsed": false,
    "jupyter": {
     "outputs_hidden": false
    }
   },
   "outputs": [
    {
     "name": "stdout",
     "output_type": "stream",
     "text": [
      "Максимальна ціна для жанру Fiction\n",
      "\tВідповідь: 82\n",
      "Мінімальна ціна для жанру Fiction\n",
      "\tВідповідь: 0\n",
      "Максимальна ціна для жанру Non Fiction\n",
      "\tВідповідь: 105\n",
      "Мінімальна ціна для жанру Non Fiction:\n",
      "\tВідповідь: 0\n",
      "Якої розмірності вийшла таблиця?\n",
      "\tВідповідь: (248, 2)\n",
      "Який автор має найбільше книг?\n",
      "\tВідповідь: Jeff Kinney\n",
      "Скільки книг цього автора?\n",
      "\tВідповідь: 12\n",
      "У якого автора середній рейтинг мінімальний?\n",
      "\tВідповідь: Donna Tartt\n",
      "Який у цього автора середній рейтинг?\n",
      "\tВідповідь: 3.9\n",
      "Який автор перший у списку?\n",
      "\tВідповідь: Donna Tartt\n"
     ]
    }
   ],
   "source": [
    "print(f'Максимальна ціна для жанру Fiction\\n\\tВідповідь: {genre_stats[\"max\"].loc[\"Fiction\"]}')\n",
    "print(f'Мінімальна ціна для жанру Fiction\\n\\tВідповідь: {genre_stats[\"min\"].loc[\"Fiction\"]}')\n",
    "print(f'Максимальна ціна для жанру Non Fiction\\n\\tВідповідь: {genre_stats[\"max\"].loc[\"Non Fiction\"]}')\n",
    "print(f'Мінімальна ціна для жанру Non Fiction:\\n\\tВідповідь: {genre_stats[\"min\"].loc[\"Non Fiction\"]}')\n",
    "print(f'Якої розмірності вийшла таблиця?\\n\\tВідповідь: {author_book_count.shape}')\n",
    "print(f'Який автор має найбільше книг?\\n\\tВідповідь: {max_book_author[\"author\"].iloc[0]}')\n",
    "print(f'Скільки книг цього автора?\\n\\tВідповідь: {max_book_author[\"book_count\"].iloc[0]}')\n",
    "print(f'У якого автора середній рейтинг мінімальний?\\n\\tВідповідь: {author_min_avg_rating[\"author\"].iloc[0]}')\n",
    "print(f'Який у цього автора середній рейтинг?\\n\\tВідповідь: {author_min_avg_rating[\"avg_rating\"].iloc[0]}')\n",
    "print(f'Який автор перший у списку?\\n\\tВідповідь: {author_book_count_avg_rating_sorted[\"author\"].iloc[0]}')"
   ]
  },
  {
   "cell_type": "code",
   "execution_count": 71,
   "id": "ab95c7e80a36131f",
   "metadata": {
    "ExecuteTime": {
     "end_time": "2023-09-28T12:59:18.847414500Z",
     "start_time": "2023-09-28T12:59:18.347415300Z"
    },
    "collapsed": false,
    "jupyter": {
     "outputs_hidden": false
    }
   },
   "outputs": [
    {
     "data": {
      "image/png": "[encoded data removed]",
      "text/plain": [
       "<Figure size 1200x200 with 1 Axes>"
      ]
     },
     "metadata": {},
     "output_type": "display_data"
    },
    {
     "data": {
      "image/png": "[encoded data removed]",
      "text/plain": [
       "<Figure size 1200x200 with 1 Axes>"
      ]
     },
     "metadata": {},
     "output_type": "display_data"
    },
    {
     "data": {
      "image/png": "[encoded data removed]",
      "text/plain": [
       "<Figure size 1200x200 with 1 Axes>"
      ]
     },
     "metadata": {},
     "output_type": "display_data"
    }
   ],
   "source": [
    "for col in books_data.columns[2:5]:\n",
    "    plt.figure(figsize = (12,2))\n",
    "    sns.boxplot(data =books_data,x = col,y =\"genre\")\n",
    "    plt.title(\"Розподіл по жанрам в залежності від \"+ col)\n",
    "    plt.ylabel(\"Жанр\")\n",
    "    plt.xlabel(col)\n",
    "    plt.show()"
   ]
  },
  {
   "cell_type": "code",
   "execution_count": 75,
   "id": "5165f1b2b53cae2f",
   "metadata": {
    "ExecuteTime": {
     "end_time": "2023-09-28T13:02:09.653677600Z",
     "start_time": "2023-09-28T13:02:09.394466400Z"
    },
    "collapsed": false,
    "jupyter": {
     "outputs_hidden": false
    }
   },
   "outputs": [
    {
     "data": {
      "image/png": "[encoded data removed]",
      "text/plain": [
       "<Figure size 1200x600 with 1 Axes>"
      ]
     },
     "metadata": {},
     "output_type": "display_data"
    }
   ],
   "source": [
    "books_data[\"author\"].value_counts()[:10].plot(kind= \"barh\",figsize =(12,6)).invert_yaxis()\n",
    "plt.title(\"Топ 10 авторів\")\n",
    "plt.ylabel(\"Автор\")\n",
    "plt.xlabel('Кількість Книг')\n",
    "plt.show()"
   ]
  },
  {
   "cell_type": "code",
   "execution_count": null,
   "id": "aa59abe03c94587c",
   "metadata": {
    "collapsed": false,
    "jupyter": {
     "outputs_hidden": false
    }
   },
   "outputs": [],
   "source": []
  }
 ],
 "metadata": {
  "kernelspec": {
   "display_name": "Python 3 (ipykernel)",
   "language": "python",
   "name": "python3"
  },
  "language_info": {
   "codemirror_mode": {
    "name": "ipython",
    "version": 3
   },
   "file_extension": ".py",
   "mimetype": "text/x-python",
   "name": "python",
   "nbconvert_exporter": "python",
   "pygments_lexer": "ipython3",
   "version": "3.11.3"
  }
 },
 "nbformat": 4,
 "nbformat_minor": 5
}
